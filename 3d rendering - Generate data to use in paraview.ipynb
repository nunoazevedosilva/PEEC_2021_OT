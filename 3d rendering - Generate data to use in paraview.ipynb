{
 "cells": [
  {
   "cell_type": "markdown",
   "id": "761e0039",
   "metadata": {},
   "source": [
    "# A simple introduction to 3d rendering\n",
    "\n",
    "You'll need 2 things: pyetk (conda install -c conda-forge pyevtk) and paraview (https://www.paraview.org/download/)"
   ]
  },
  {
   "cell_type": "markdown",
   "id": "a8c39d85",
   "metadata": {},
   "source": [
    "# 1. Points data"
   ]
  },
  {
   "cell_type": "code",
   "execution_count": 1,
   "id": "a63568be",
   "metadata": {},
   "outputs": [],
   "source": [
    "from pyevtk.hl import pointsToVTK\n",
    "import numpy as np\n",
    "\n",
    "\n",
    "npoints = 10\n",
    "\n",
    "for t in range(0,10):\n",
    "    x = np.random.rand(npoints)\n",
    "    y = np.random.rand(npoints)\n",
    "    z = np.random.rand(npoints)\n",
    "\n",
    "    mass = np.ones(npoints)\n",
    "\n",
    "    pointsToVTK(\"./points_\"+str(t), x, y, z, data = {\"mass\" : mass})"
   ]
  },
  {
   "cell_type": "markdown",
   "id": "d9da26d2",
   "metadata": {},
   "source": [
    "# 2. Volume data"
   ]
  },
  {
   "cell_type": "code",
   "execution_count": 2,
   "id": "a2cab5a5",
   "metadata": {},
   "outputs": [
    {
     "data": {
      "text/plain": [
       "'C:\\\\Users\\\\nunoa\\\\PEEC 2021\\\\PEEC_2021_OT\\\\potential.vts'"
      ]
     },
     "execution_count": 2,
     "metadata": {},
     "output_type": "execute_result"
    }
   ],
   "source": [
    "from pyevtk.hl import gridToVTK\n",
    "import random as rnd\n",
    "\n",
    "# Dimensions\n",
    "nx, ny, nz = 64, 64, 64\n",
    "lx, ly, lz = 32.0, 32.0, 32.0\n",
    "dx, dy, dz = lx/nx, ly/ny, lz/nz\n",
    "\n",
    "\n",
    "# Coordinates\n",
    "X = np.linspace(-lx/2,lx/2, nx)\n",
    "Y = np.linspace(-ly/2,ly/2, nx)\n",
    "Z = np.linspace(-lz/2,lz/2, nx)\n",
    "x = np.zeros((nx, ny, nz))\n",
    "y = np.zeros((nx, ny, nz))\n",
    "z = np.zeros((nx, ny, nz))\n",
    "\n",
    "for k in range(nz):\n",
    "    for j in range(ny):\n",
    "        for i in range(nx): \n",
    "            x[i,j,k] = X[i] \n",
    "            y[i,j,k] = Y[j] \n",
    "            z[i,j,k] = Z[k]\n",
    "                \n",
    "\n",
    "def harmonic_trap_potential(x,y,z,theta=45):\n",
    "    kx=1\n",
    "    ky=0.2\n",
    "    kz=1\n",
    "    return - 1/2 *((kx*(x*np.cos(theta)-y*np.sin(theta))**2)+\n",
    "                     (ky*(x*np.sin(theta)+y*np.cos(theta))**2) + 1/2*kz*z**2)\n",
    "\n",
    "\n",
    "potential = np.zeros((nx,ny,nz))\n",
    "\n",
    "for k in range(nz):\n",
    "    for j in range(ny):\n",
    "        for i in range(nx):\n",
    "            potential[i,j,k] = harmonic_trap_potential(x[i,j,k],y[i,j,k],z[i,j,k])\n",
    "            \n",
    "# Variables\n",
    "gridToVTK(\"./potential\", x, y, z, pointData = {\"potential\" : potential})"
   ]
  },
  {
   "cell_type": "markdown",
   "id": "4f9c5d63",
   "metadata": {},
   "source": [
    "# 3. Vector Field data"
   ]
  },
  {
   "cell_type": "code",
   "execution_count": 3,
   "id": "caa0d027",
   "metadata": {},
   "outputs": [
    {
     "data": {
      "text/plain": [
       "'C:\\\\Users\\\\nunoa\\\\PEEC 2021\\\\PEEC_2021_OT\\\\Force.vts'"
      ]
     },
     "execution_count": 3,
     "metadata": {},
     "output_type": "execute_result"
    }
   ],
   "source": [
    "from pyevtk.hl import gridToVTK\n",
    "import random as rnd\n",
    "# Dimensions\n",
    "nx, ny, nz = 64, 64, 64\n",
    "lx, ly, lz = 32.0, 32.0, 32.0\n",
    "dx, dy, dz = lx/nx, ly/ny, lz/nz\n",
    "\n",
    "\n",
    "# Coordinates\n",
    "X = np.linspace(-lx/2,lx/2, nx)\n",
    "Y = np.linspace(-ly/2,ly/2, nx)\n",
    "Z = np.linspace(-lz/2,lz/2, nx)\n",
    "x = np.zeros((nx, ny, nz))\n",
    "y = np.zeros((nx, ny, nz))\n",
    "z = np.zeros((nx, ny, nz))\n",
    "\n",
    "for k in range(nz):\n",
    "    for j in range(ny):\n",
    "        for i in range(nx): \n",
    "            x[i,j,k] = X[i] \n",
    "            y[i,j,k] = Y[j] \n",
    "            z[i,j,k] = Z[k]\n",
    "                \n",
    "\n",
    "def harmonic_trap(x,y,z,theta=45):\n",
    "    kx=1\n",
    "    ky=0.2\n",
    "    kz=1\n",
    "    \n",
    "    Fx = - (kx*(x*np.cos(theta)-y*np.sin(theta))*np.cos(theta)+(ky*(x*np.sin(theta)+y*np.cos(theta))*np.sin(theta)))\n",
    "    Fy = - (-kx*(x*np.cos(theta)-y*np.sin(theta))*np.sin(theta)+(ky*(x*np.sin(theta)+y*np.cos(theta))*np.cos(theta)))\n",
    "    Fz = - kz*z\n",
    "    return Fx,Fy,Fz\n",
    "\n",
    "\n",
    "Fx = np.zeros((nx,ny,nz))\n",
    "Fy = np.zeros((nx,ny,nz))\n",
    "Fz = np.zeros((nx,ny,nz))\n",
    "for k in range(nz):\n",
    "    for j in range(ny):\n",
    "        for i in range(nx):\n",
    "            fx,fy,fz = harmonic_trap(x[i,j,k],y[i,j,k],z[i,j,k])\n",
    "            Fx[i,j,k] = fx\n",
    "            Fy[i,j,k] = fy\n",
    "            Fz[i,j,k] = fz\n",
    "            \n",
    "# Variables\n",
    "gridToVTK(\"./Force\", x, y, z, pointData = {\"force\" : (Fx,Fy,Fz)})"
   ]
  },
  {
   "cell_type": "code",
   "execution_count": null,
   "id": "7e284e5e",
   "metadata": {},
   "outputs": [],
   "source": []
  },
  {
   "cell_type": "code",
   "execution_count": 4,
   "id": "76512da4",
   "metadata": {},
   "outputs": [],
   "source": [
    "import numpy as np\n",
    "from matplotlib.pyplot import *\n",
    "%matplotlib notebook\n",
    "from scipy import *\n",
    "from tqdm.notebook import *\n",
    "from matplotlib.animation import *"
   ]
  },
  {
   "cell_type": "code",
   "execution_count": 5,
   "id": "4f9d5e50",
   "metadata": {},
   "outputs": [],
   "source": [
    "#########################\n",
    "#numerical integrator####\n",
    "\n",
    "\n",
    "def integrate_euler(F,t,y,tstop,dt):\n",
    "\n",
    "    def euler(F,t,y,dt):\n",
    "        #retorna o incremento apra utilizar na resolucao\n",
    "        K0=dt*F(t,y)\n",
    "        return K0\n",
    "\n",
    "    T=[]\n",
    "    Y=[]\n",
    "    T.append(t)\n",
    "    Y.append(y)\n",
    "    \n",
    "    pbar = tqdm(total=(tstop-dt))\n",
    "    while t<tstop:\n",
    "        pbar.update(dt)\n",
    "        dt=min(dt,tstop-t)\n",
    "        y=y+euler(F,t,y,dt)\n",
    "        t=t+dt\n",
    "        T.append(t)\n",
    "        Y.append(y)\n",
    "\n",
    "    return np.array(T),np.array(Y) \n",
    "\n",
    "\n",
    "##################################\n",
    "#functions for simulating the dynamics\n",
    "\n",
    "def harmonic_trap_potential(x,y,z,k,theta):\n",
    "    kx=k[0]\n",
    "    ky=k[1]\n",
    "    kz=k[2]\n",
    "    return - 1/2 *((kx*(x*np.cos(theta)-y*np.sin(theta))**2)+\n",
    "                     (ky*(x*np.sin(theta)+y*np.cos(theta))**2) + 1/2*kz*z**2)\n",
    "\n",
    "def harmonic_trap(x,y,z,k,theta):\n",
    "\n",
    "    \n",
    "    kx=k[0]\n",
    "    ky=k[1]\n",
    "    kz=k[2]\n",
    "    \n",
    "    Fx = - (kx*(x*np.cos(theta)-y*np.sin(theta))*np.cos(theta)+(ky*(x*np.sin(theta)+y*np.cos(theta))*np.sin(theta)))\n",
    "    Fy = - (-kx*(x*np.cos(theta)-y*np.sin(theta))*np.sin(theta)+(ky*(x*np.sin(theta)+y*np.cos(theta))*np.cos(theta)))\n",
    "    Fz = - kz*z\n",
    "    return Fx,Fy,Fz\n",
    "\n",
    "def brownian_simulation(t_stop, dt, k, W, gamma, theta = 0, m=1,delta_x=0,delta_v=0):\n",
    "    print('k',k)\n",
    "    print('theta',theta)\n",
    "    print('W',W)\n",
    "    def F(t,y):\n",
    "\n",
    "        Fi=np.zeros(6) #[x,vx,y,vy,z,vz]\n",
    "        Fx,Fy,Fz = harmonic_trap(y[0],y[2],y[4],k,theta)\n",
    "        \n",
    "        #normalization factor of the noise - Variance of the noise must be equal to 1/dt\n",
    "        W1 = W/np.sqrt(dt)\n",
    "        \n",
    "        Fi[0]=y[1] \n",
    "        Fi[1]= -(gamma/m) * y[1] + Fx/m   + W1/m*(np.random.normal(scale=1))\n",
    "        \n",
    "        Fi[2]=y[3]  \n",
    "        Fi[3]= -(gamma/m) * y[3] + Fy/m  + W1/m*(np.random.normal(scale=1))\n",
    "        \n",
    "        Fi[4]=y[5] \n",
    "        Fi[5]= -(gamma/m) * y[5] + Fz/m + W1/m*(np.random.normal(scale=1))\n",
    "            \n",
    "        return Fi\n",
    "\n",
    "    \n",
    "    def initial_condition():\n",
    "        y=np.zeros(6)\n",
    "\n",
    "        for i in range(0,6,2):\n",
    "\n",
    "            y[i] = delta_x*(1-2*np.random.rand())\n",
    "            y[i+1] = delta_v*(1-2*np.random.rand())\n",
    "\n",
    "        #define initial position\n",
    "        y[0]= 10\n",
    "        y[2]= 10\n",
    "        y[4]= 10\n",
    "        \n",
    "        return y\n",
    "    \n",
    "    r0=initial_condition()\n",
    "    T,Y=integrate_euler(F,0,r0,t_stop,dt)\n",
    "    return T,Y\n"
   ]
  },
  {
   "cell_type": "code",
   "execution_count": 6,
   "id": "98231ff4",
   "metadata": {},
   "outputs": [
    {
     "name": "stdout",
     "output_type": "stream",
     "text": [
      "k [0.9, 0.2, 0.5]\n",
      "theta 50\n",
      "W 0.6324555320336759\n"
     ]
    },
    {
     "data": {
      "application/vnd.jupyter.widget-view+json": {
       "model_id": "74f79c3abb09404594a3ff5727605bf6",
       "version_major": 2,
       "version_minor": 0
      },
      "text/plain": [
       "  0%|          | 0/999.99 [00:00<?, ?it/s]"
      ]
     },
     "metadata": {},
     "output_type": "display_data"
    }
   ],
   "source": [
    "#[kx,ky,kz] - parameters of the harmonic trap\n",
    "k_0 = [.9,.2,.5]\n",
    "\n",
    "#noise parameters\n",
    "#drag parameter\n",
    "m=1\n",
    "gamma_0 = .2\n",
    "kB = 1\n",
    "T0 = 1\n",
    "D = kB * T0 / gamma_0\n",
    "W_0 = np.sqrt(2*kB*T0*gamma_0)\n",
    "\n",
    "\n",
    "#xy angle\n",
    "theta = 50\n",
    "\n",
    "\n",
    "#simulation time, dt step\n",
    "t_stop = 1000\n",
    "dt = 0.01\n",
    "\n",
    "#simulation Y is a vector with [x,vx,y,vy,z,vz](t)\n",
    "initial_pos = []\n",
    "T,Y = brownian_simulation(t_stop,dt, k_0, W_0, gamma = gamma_0, m = m , theta = theta, delta_x=2)\n",
    "\n",
    "time = T\n",
    "x_data = Y[:,0]\n",
    "y_data = Y[:,2] \n",
    "z_data = Y[:,4]"
   ]
  },
  {
   "cell_type": "code",
   "execution_count": 8,
   "id": "02bb6b72",
   "metadata": {},
   "outputs": [
    {
     "data": {
      "text/plain": [
       "'C:\\\\Users\\\\nunoa\\\\PEEC 2021\\\\PEEC_2021_OT\\\\paraview_data1\\\\Force_field.vts'"
      ]
     },
     "execution_count": 8,
     "metadata": {},
     "output_type": "execute_result"
    }
   ],
   "source": [
    "# save data from the simulation to paraview files\n",
    "\n",
    "#particle position data#######################\n",
    "\n",
    "for t in range(0,len(time),10):\n",
    "    x = x_data[t]\n",
    "    y = y_data[t]\n",
    "    z = z_data[t]\n",
    "\n",
    "    mass = np.ones(1)\n",
    "\n",
    "    pointsToVTK(\"./paraview_data1/particle_t_\"+str(t), x, y, z, data = {\"mass\" : mass})\n",
    "    \n",
    "#potential data###############################\n",
    "\n",
    "# Dimensions\n",
    "nx, ny, nz = 64, 64, 64\n",
    "lx, ly, lz = np.abs(x_data).max(), np.abs(y_data).max(), np.abs(z_data).max()\n",
    "dx, dy, dz = lx/nx, ly/ny, lz/nz\n",
    "# Coordinates\n",
    "X = np.linspace(-lx,lx, nx)\n",
    "Y = np.linspace(-ly,ly, ny)\n",
    "Z = np.linspace(-lz,lz, nz)\n",
    "x = np.zeros((nx, ny, nz))\n",
    "y = np.zeros((nx, ny, nz))\n",
    "z = np.zeros((nx, ny, nz))\n",
    "\n",
    "for k in range(nz):\n",
    "    for j in range(ny):\n",
    "        for i in range(nx): \n",
    "            x[i,j,k] = X[i] \n",
    "            y[i,j,k] = Y[j] \n",
    "            z[i,j,k] = Z[k]\n",
    "            \n",
    "\n",
    "potential = np.zeros((nx,ny,nz))\n",
    "for k in range(nz):\n",
    "    for j in range(ny):\n",
    "        for i in range(nx):\n",
    "            potential[i,j,k] = harmonic_trap_potential(x[i,j,k],y[i,j,k],z[i,j,k],k_0, theta)\n",
    "            \n",
    "gridToVTK(\"./paraview_data1/potential_trap\", x, y, z, pointData = {\"potential\" : potential})\n",
    "\n",
    "#force field data#############################\n",
    "\n",
    "Fx = np.zeros((nx,ny,nz))\n",
    "Fy = np.zeros((nx,ny,nz))\n",
    "Fz = np.zeros((nx,ny,nz))\n",
    "for k in range(nz):\n",
    "    for j in range(ny):\n",
    "        for i in range(nx):\n",
    "            fx,fy,fz = harmonic_trap(x[i,j,k],y[i,j,k],z[i,j,k],k_0,theta)\n",
    "            Fx[i,j,k] = fx\n",
    "            Fy[i,j,k] = fy\n",
    "            Fz[i,j,k] = fz\n",
    "            \n",
    "# Variables\n",
    "gridToVTK(\"./paraview_data1/Force_field\", x, y, z, pointData = {\"force\" : (Fx,Fy,Fz)})\n",
    "\n",
    "\n"
   ]
  },
  {
   "cell_type": "code",
   "execution_count": null,
   "id": "d9e7a8ff",
   "metadata": {},
   "outputs": [],
   "source": []
  }
 ],
 "metadata": {
  "kernelspec": {
   "display_name": "Python 3",
   "language": "python",
   "name": "python3"
  },
  "language_info": {
   "codemirror_mode": {
    "name": "ipython",
    "version": 3
   },
   "file_extension": ".py",
   "mimetype": "text/x-python",
   "name": "python",
   "nbconvert_exporter": "python",
   "pygments_lexer": "ipython3",
   "version": "3.6.12"
  }
 },
 "nbformat": 4,
 "nbformat_minor": 5
}
